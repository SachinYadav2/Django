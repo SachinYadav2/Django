{
 "cells": [
  {
   "cell_type": "code",
   "execution_count": 4,
   "id": "c4981070",
   "metadata": {},
   "outputs": [
    {
     "name": "stdout",
     "output_type": "stream",
     "text": [
      "15 4312705776\n",
      "10 4312705616\n"
     ]
    }
   ],
   "source": [
    "\n",
    "\n",
    "def val(x):\n",
    "    x = 15\n",
    "    print(x,id(x))\n",
    "x = 10\n",
    "val(x)\n",
    "print(x,id(x))"
   ]
  },
  {
   "cell_type": "code",
   "execution_count": 5,
   "id": "73dc0b78",
   "metadata": {},
   "outputs": [
    {
     "name": "stdout",
     "output_type": "stream",
     "text": [
      "10\n",
      "15 4312705776\n",
      "10 4312705616\n"
     ]
    }
   ],
   "source": [
    "\n",
    "\n",
    "def val(x):\n",
    "    print(x) # yha tak hmari 10 value aa rhi h Aage jakar change ho rhi h basicallly because int are not modify you\n",
    "    x = 15\n",
    "    print(x,id(x))\n",
    "x = 10\n",
    "val(x)\n",
    "print(x,id(x))"
   ]
  },
  {
   "cell_type": "code",
   "execution_count": 8,
   "id": "dc863715",
   "metadata": {},
   "outputs": [
    {
     "name": "stdout",
     "output_type": "stream",
     "text": [
      "[1, 2, 3] 4384705472\n",
      "[1, 2, 3, 12] 4384705472\n",
      "[1, 2, 3, 12] 4384705472\n"
     ]
    }
   ],
   "source": [
    "def val(lst):\n",
    "    lst.append(12)\n",
    "    print(lst,id(lst)) # becaluse hamari list ko ham modify kar skte h\n",
    "lst = [1,2,3]\n",
    "print(lst,id(lst))\n",
    "val(lst)\n",
    "print(lst,id(lst))"
   ]
  },
  {
   "cell_type": "markdown",
   "id": "9888408f",
   "metadata": {},
   "source": [
    "## Ye upr bale example se aap name ke bjh se chinta na kare ye sara kam object refrence ke bjh se hota h "
   ]
  },
  {
   "cell_type": "code",
   "execution_count": 10,
   "id": "d1046ca1",
   "metadata": {},
   "outputs": [
    {
     "name": "stdout",
     "output_type": "stream",
     "text": [
      "10\n",
      "15 4312705776\n",
      "10 4312705616\n"
     ]
    }
   ],
   "source": [
    "\n",
    "\n",
    "def val(y):\n",
    "    print(x) # yha tak hmari 10 value aa rhi h Aage jakar change ho rhi h basicallly because int are not modify you\n",
    "    y = 15\n",
    "    print(y,id(y))\n",
    "x = 10\n",
    "val(x)\n",
    "print(x,id(x))"
   ]
  },
  {
   "cell_type": "code",
   "execution_count": 11,
   "id": "10f2f9e0",
   "metadata": {},
   "outputs": [
    {
     "name": "stdout",
     "output_type": "stream",
     "text": [
      "[1, 2, 3] 4384876288\n",
      "[1, 2, 3, 12] 4384876288\n",
      "[1, 2, 3, 12] 4384876288\n"
     ]
    }
   ],
   "source": [
    "def val(s):\n",
    "    lst.append(12)\n",
    "    print(s,id(s)) # becaluse hamari list ko ham modify kar skte h\n",
    "lst = [1,2,3]\n",
    "print(lst,id(lst))\n",
    "val(lst)\n",
    "print(lst,id(lst))"
   ]
  },
  {
   "cell_type": "markdown",
   "id": "49cea88c",
   "metadata": {},
   "source": [
    "## 3 Case "
   ]
  },
  {
   "cell_type": "code",
   "execution_count": 13,
   "id": "d6d38285",
   "metadata": {},
   "outputs": [
    {
     "name": "stdout",
     "output_type": "stream",
     "text": [
      "[1, 2, 3] 4384965824\n",
      "[1, 2, 3] 4384965824\n",
      "[12, 123, 13121] 4385003904\n",
      "[1, 2, 3] 4384965824\n"
     ]
    }
   ],
   "source": [
    "def show(lst):\n",
    "    print(lst,id(lst))\n",
    "    lst = [12,123,13121]\n",
    "    print(lst,id(lst))\n",
    "\n",
    "lst = [1,2,3]\n",
    "print(lst,id(lst))\n",
    "show(lst)\n",
    "print(lst,id(lst))"
   ]
  },
  {
   "cell_type": "code",
   "execution_count": null,
   "id": "901b2e6e",
   "metadata": {},
   "outputs": [],
   "source": []
  }
 ],
 "metadata": {
  "kernelspec": {
   "display_name": "Python 3 (ipykernel)",
   "language": "python",
   "name": "python3"
  },
  "language_info": {
   "codemirror_mode": {
    "name": "ipython",
    "version": 3
   },
   "file_extension": ".py",
   "mimetype": "text/x-python",
   "name": "python",
   "nbconvert_exporter": "python",
   "pygments_lexer": "ipython3",
   "version": "3.9.13"
  }
 },
 "nbformat": 4,
 "nbformat_minor": 5
}
